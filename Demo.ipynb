{
 "cells": [
  {
   "cell_type": "markdown",
   "metadata": {},
   "source": [
    "### Demo: using the RNE (http://bit.ly/data-RNE) to explore municipal councillors' representativeness"
   ]
  },
  {
   "cell_type": "code",
   "execution_count": 1,
   "metadata": {},
   "outputs": [],
   "source": [
    "import pandas as pd\n",
    "import matplotlib.pyplot as plt\n",
    "import sklearn as skl\n",
    "import json"
   ]
  },
  {
   "cell_type": "code",
   "execution_count": 2,
   "metadata": {},
   "outputs": [
    {
     "name": "stderr",
     "output_type": "stream",
     "text": [
      "c:\\program files\\python36\\lib\\site-packages\\IPython\\core\\interactiveshell.py:3020: DtypeWarning: Columns (0,2) have mixed types. Specify dtype option on import or set low_memory=False.\n",
      "  interactivity=interactivity, compiler=compiler, result=result)\n"
     ]
    }
   ],
   "source": [
    "data = pd.read_csv(\"1-rne-cm.txt\", sep='\\t', encoding='ISO-8859-1')"
   ]
  },
  {
   "cell_type": "code",
   "execution_count": 3,
   "metadata": {},
   "outputs": [
    {
     "data": {
      "text/plain": [
       "(498196, 14)"
      ]
     },
     "execution_count": 3,
     "metadata": {},
     "output_type": "execute_result"
    }
   ],
   "source": [
    "data.shape"
   ]
  },
  {
   "cell_type": "code",
   "execution_count": 4,
   "metadata": {},
   "outputs": [
    {
     "data": {
      "text/html": [
       "<div>\n",
       "<style scoped>\n",
       "    .dataframe tbody tr th:only-of-type {\n",
       "        vertical-align: middle;\n",
       "    }\n",
       "\n",
       "    .dataframe tbody tr th {\n",
       "        vertical-align: top;\n",
       "    }\n",
       "\n",
       "    .dataframe thead th {\n",
       "        text-align: right;\n",
       "    }\n",
       "</style>\n",
       "<table border=\"1\" class=\"dataframe\">\n",
       "  <thead>\n",
       "    <tr style=\"text-align: right;\">\n",
       "      <th></th>\n",
       "      <th>Code du département (Maire)</th>\n",
       "      <th>Libellé de département (Maires)</th>\n",
       "      <th>Code Insee de la commune</th>\n",
       "      <th>Libellé de la commune</th>\n",
       "      <th>Nom de l'élu</th>\n",
       "      <th>Prénom de l'élu</th>\n",
       "      <th>Code sexe</th>\n",
       "      <th>Date de naissance</th>\n",
       "      <th>Code profession</th>\n",
       "      <th>Libellé de la profession</th>\n",
       "      <th>Date de début du mandat</th>\n",
       "      <th>Libellé de fonction</th>\n",
       "      <th>Date de début de la fonction</th>\n",
       "      <th>Nationalité de l'élu</th>\n",
       "    </tr>\n",
       "  </thead>\n",
       "  <tbody>\n",
       "    <tr>\n",
       "      <th>0</th>\n",
       "      <td>1</td>\n",
       "      <td>AIN</td>\n",
       "      <td>1</td>\n",
       "      <td>L'Abergement-Clémenciat</td>\n",
       "      <td>BERAUD</td>\n",
       "      <td>Zélie</td>\n",
       "      <td>F</td>\n",
       "      <td>26/3/1980</td>\n",
       "      <td>10.0</td>\n",
       "      <td>Artisans</td>\n",
       "      <td>23/3/2014</td>\n",
       "      <td>NaN</td>\n",
       "      <td>NaN</td>\n",
       "      <td>Française</td>\n",
       "    </tr>\n",
       "    <tr>\n",
       "      <th>1</th>\n",
       "      <td>1</td>\n",
       "      <td>AIN</td>\n",
       "      <td>1</td>\n",
       "      <td>L'Abergement-Clémenciat</td>\n",
       "      <td>BOUILLOUX</td>\n",
       "      <td>Delphine</td>\n",
       "      <td>F</td>\n",
       "      <td>2/8/1977</td>\n",
       "      <td>2.0</td>\n",
       "      <td>Salariés agricoles</td>\n",
       "      <td>23/3/2014</td>\n",
       "      <td>NaN</td>\n",
       "      <td>NaN</td>\n",
       "      <td>Française</td>\n",
       "    </tr>\n",
       "    <tr>\n",
       "      <th>2</th>\n",
       "      <td>1</td>\n",
       "      <td>AIN</td>\n",
       "      <td>1</td>\n",
       "      <td>L'Abergement-Clémenciat</td>\n",
       "      <td>BOULON</td>\n",
       "      <td>Daniel</td>\n",
       "      <td>M</td>\n",
       "      <td>4/3/1951</td>\n",
       "      <td>61.0</td>\n",
       "      <td>Retraités salariés privés</td>\n",
       "      <td>23/3/2014</td>\n",
       "      <td>Maire</td>\n",
       "      <td>23/3/2014</td>\n",
       "      <td>Française</td>\n",
       "    </tr>\n",
       "    <tr>\n",
       "      <th>3</th>\n",
       "      <td>1</td>\n",
       "      <td>AIN</td>\n",
       "      <td>1</td>\n",
       "      <td>L'Abergement-Clémenciat</td>\n",
       "      <td>BUET</td>\n",
       "      <td>Roger</td>\n",
       "      <td>M</td>\n",
       "      <td>21/4/1952</td>\n",
       "      <td>1.0</td>\n",
       "      <td>Agriculteurs propriétaires exploit.</td>\n",
       "      <td>23/3/2014</td>\n",
       "      <td>Troisième adjoint au maire</td>\n",
       "      <td>23/3/2014</td>\n",
       "      <td>Française</td>\n",
       "    </tr>\n",
       "    <tr>\n",
       "      <th>4</th>\n",
       "      <td>1</td>\n",
       "      <td>AIN</td>\n",
       "      <td>1</td>\n",
       "      <td>L'Abergement-Clémenciat</td>\n",
       "      <td>DESVAQUET</td>\n",
       "      <td>Nadine</td>\n",
       "      <td>F</td>\n",
       "      <td>22/8/1961</td>\n",
       "      <td>14.0</td>\n",
       "      <td>Agents technique et techniciens</td>\n",
       "      <td>23/3/2014</td>\n",
       "      <td>NaN</td>\n",
       "      <td>NaN</td>\n",
       "      <td>Française</td>\n",
       "    </tr>\n",
       "  </tbody>\n",
       "</table>\n",
       "</div>"
      ],
      "text/plain": [
       "  Code du département (Maire) Libellé de département (Maires)  \\\n",
       "0                           1                             AIN   \n",
       "1                           1                             AIN   \n",
       "2                           1                             AIN   \n",
       "3                           1                             AIN   \n",
       "4                           1                             AIN   \n",
       "\n",
       "  Code Insee de la commune    Libellé de la commune Nom de l'élu  \\\n",
       "0                        1  L'Abergement-Clémenciat       BERAUD   \n",
       "1                        1  L'Abergement-Clémenciat    BOUILLOUX   \n",
       "2                        1  L'Abergement-Clémenciat       BOULON   \n",
       "3                        1  L'Abergement-Clémenciat         BUET   \n",
       "4                        1  L'Abergement-Clémenciat    DESVAQUET   \n",
       "\n",
       "  Prénom de l'élu Code sexe Date de naissance  Code profession  \\\n",
       "0           Zélie         F         26/3/1980             10.0   \n",
       "1        Delphine         F          2/8/1977              2.0   \n",
       "2          Daniel         M          4/3/1951             61.0   \n",
       "3           Roger         M         21/4/1952              1.0   \n",
       "4          Nadine         F         22/8/1961             14.0   \n",
       "\n",
       "              Libellé de la profession Date de début du mandat  \\\n",
       "0                             Artisans               23/3/2014   \n",
       "1                   Salariés agricoles               23/3/2014   \n",
       "2            Retraités salariés privés               23/3/2014   \n",
       "3  Agriculteurs propriétaires exploit.               23/3/2014   \n",
       "4      Agents technique et techniciens               23/3/2014   \n",
       "\n",
       "          Libellé de fonction Date de début de la fonction  \\\n",
       "0                         NaN                          NaN   \n",
       "1                         NaN                          NaN   \n",
       "2                       Maire                    23/3/2014   \n",
       "3  Troisième adjoint au maire                    23/3/2014   \n",
       "4                         NaN                          NaN   \n",
       "\n",
       "  Nationalité de l'élu  \n",
       "0            Française  \n",
       "1            Française  \n",
       "2            Française  \n",
       "3            Française  \n",
       "4            Française  "
      ]
     },
     "execution_count": 4,
     "metadata": {},
     "output_type": "execute_result"
    }
   ],
   "source": [
    "data.head()"
   ]
  },
  {
   "cell_type": "code",
   "execution_count": 5,
   "metadata": {},
   "outputs": [],
   "source": [
    "# data['Libellé de département (Maires)'].value_counts().plot(kind='bar', figsize=(20,5))"
   ]
  },
  {
   "cell_type": "code",
   "execution_count": 6,
   "metadata": {},
   "outputs": [
    {
     "data": {
      "text/plain": [
       "M    0.600824\n",
       "F    0.399176\n",
       "Name: Code sexe, dtype: float64"
      ]
     },
     "execution_count": 6,
     "metadata": {},
     "output_type": "execute_result"
    }
   ],
   "source": [
    "data['Code sexe'].value_counts(normalize=True)"
   ]
  },
  {
   "cell_type": "code",
   "execution_count": 7,
   "metadata": {},
   "outputs": [],
   "source": [
    "# data['Libellé de la profession'].value_counts().head(30).plot(kind='barh', figsize=(20,8))"
   ]
  },
  {
   "cell_type": "code",
   "execution_count": 8,
   "metadata": {},
   "outputs": [
    {
     "data": {
      "text/plain": [
       "Française          0.994961\n",
       "Britannique        0.001532\n",
       "Belge              0.001094\n",
       "Portugaise         0.000719\n",
       "Néerlandaise       0.000638\n",
       "Allemande          0.000422\n",
       "Italienne          0.000255\n",
       "Espagnole          0.000165\n",
       "Irlandaise         0.000058\n",
       "Suédoise           0.000020\n",
       "Polonaise          0.000020\n",
       "Roumaine           0.000020\n",
       "Danoise            0.000018\n",
       "Finlandaise        0.000016\n",
       "Autrichienne       0.000016\n",
       "Luxembourgeoise    0.000014\n",
       "Grecque            0.000010\n",
       "Hongroise          0.000006\n",
       "Tchèque            0.000006\n",
       "Bulgare            0.000006\n",
       "Maltaise           0.000002\n",
       "Croate             0.000002\n",
       "Name: Nationalité de l'élu, dtype: float64"
      ]
     },
     "execution_count": 8,
     "metadata": {},
     "output_type": "execute_result"
    }
   ],
   "source": [
    "data[\"Nationalité de l'élu\"].value_counts(normalize=True)"
   ]
  },
  {
   "cell_type": "code",
   "execution_count": 9,
   "metadata": {},
   "outputs": [
    {
     "data": {
      "text/plain": [
       "count       498195\n",
       "unique       22775\n",
       "top       1/1/1950\n",
       "freq           108\n",
       "Name: Date de naissance, dtype: object"
      ]
     },
     "execution_count": 9,
     "metadata": {},
     "output_type": "execute_result"
    }
   ],
   "source": [
    "data['Date de naissance'].describe()"
   ]
  },
  {
   "cell_type": "code",
   "execution_count": 10,
   "metadata": {},
   "outputs": [],
   "source": [
    "data['Date de naissance clean'] = data['Date de naissance'].astype(\"datetime64\")"
   ]
  },
  {
   "cell_type": "code",
   "execution_count": 11,
   "metadata": {},
   "outputs": [
    {
     "data": {
      "text/plain": [
       "count                  498195\n",
       "unique                  22775\n",
       "top       1950-01-01 00:00:00\n",
       "freq                      108\n",
       "first     1900-01-01 00:00:00\n",
       "last      2000-09-07 00:00:00\n",
       "Name: Date de naissance clean, dtype: object"
      ]
     },
     "execution_count": 11,
     "metadata": {},
     "output_type": "execute_result"
    }
   ],
   "source": [
    "data['Date de naissance clean'].describe()"
   ]
  },
  {
   "cell_type": "code",
   "execution_count": 12,
   "metadata": {},
   "outputs": [],
   "source": [
    "# data.groupby(data['Date de naissance clean'].dt.year).count()['Code sexe'].plot(figsize=(15, 5))"
   ]
  },
  {
   "cell_type": "code",
   "execution_count": 13,
   "metadata": {},
   "outputs": [],
   "source": [
    "# data.groupby(['Libellé de département (Maires)', 'Code sexe']).size().unstack().plot.bar(figsize=(25, 5))"
   ]
  }
 ],
 "metadata": {
  "kernelspec": {
   "display_name": "Python 3",
   "language": "python",
   "name": "python3"
  },
  "language_info": {
   "codemirror_mode": {
    "name": "ipython",
    "version": 3
   },
   "file_extension": ".py",
   "mimetype": "text/x-python",
   "name": "python",
   "nbconvert_exporter": "python",
   "pygments_lexer": "ipython3",
   "version": "3.6.6"
  }
 },
 "nbformat": 4,
 "nbformat_minor": 2
}
